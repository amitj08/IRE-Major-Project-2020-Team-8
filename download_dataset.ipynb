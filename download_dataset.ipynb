{
  "nbformat": 4,
  "nbformat_minor": 0,
  "metadata": {
    "colab": {
      "name": "download dataset.ipynb",
      "provenance": []
    },
    "kernelspec": {
      "name": "python3",
      "display_name": "Python 3"
    }
  },
  "cells": [
    {
      "cell_type": "markdown",
      "metadata": {
        "id": "ppyO2fH6JWX1"
      },
      "source": [
        "## To download the dataset and save it to Google Drive"
      ]
    },
    {
      "cell_type": "code",
      "metadata": {
        "id": "k6A_Y3hg2PLn",
        "colab": {
          "base_uri": "https://localhost:8080/",
          "height": 34
        },
        "outputId": "8a36afd9-52f2-4d4e-fdc6-5ca931ad372e"
      },
      "source": [
        "from google.colab import drive\n",
        "drive.mount('/content/drive')"
      ],
      "execution_count": null,
      "outputs": [
        {
          "output_type": "stream",
          "text": [
            "Mounted at /content/drive\n"
          ],
          "name": "stdout"
        }
      ]
    },
    {
      "cell_type": "markdown",
      "metadata": {
        "id": "SaK_ulDK9y0W"
      },
      "source": [
        "Next create a folder named `ire-major-project` in Google Drive."
      ]
    },
    {
      "cell_type": "code",
      "metadata": {
        "id": "qfrGUFm925b3"
      },
      "source": [
        "destn_path = '/content/drive/My Drive/ire-major-project'"
      ],
      "execution_count": null,
      "outputs": []
    },
    {
      "cell_type": "code",
      "metadata": {
        "id": "4RQ9C4oU3R5g"
      },
      "source": [
        "!wget https://zenodo.org/record/1489920/files/article.xsd\n",
        "!wget https://zenodo.org/record/1489920/files/articles-training-byarticle-20181122.zip\n",
        "!wget https://zenodo.org/record/1489920/files/articles-training-bypublisher-20181122.zip\n",
        "!wget https://zenodo.org/record/1489920/files/articles-validation-bypublisher-20181122.zip\n",
        "!wget https://zenodo.org/record/1489920/files/ground-truth-training-byarticle-20181122.zip\n",
        "!wget https://zenodo.org/record/1489920/files/ground-truth-training-bypublisher-20181122.zip\n",
        "!wget https://zenodo.org/record/1489920/files/ground-truth-validation-bypublisher-20181122.zip\n",
        "!wget https://zenodo.org/record/1489920/files/ground-truth.xsd"
      ],
      "execution_count": null,
      "outputs": []
    },
    {
      "cell_type": "code",
      "metadata": {
        "id": "2z1yd4al3gEV"
      },
      "source": [
        "!cp article.xsd '/content/drive/My Drive/ire-major-project'\n",
        "\n",
        "!unzip articles-training-byarticle-20181122.zip\n",
        "!cp articles-training-byarticle-20181122.xml '/content/drive/My Drive/ire-major-project'\n",
        "\n",
        "!unzip articles-training-bypublisher-20181122.zip\n",
        "!cp articles-training-bypublisher-20181122.xml '/content/drive/My Drive/ire-major-project'\n",
        "\n",
        "!unzip articles-validation-bypublisher-20181122.zip\n",
        "!cp articles-validation-bypublisher-20181122.xml '/content/drive/My Drive/ire-major-project'\n",
        "\n",
        "!unzip ground-truth-training-byarticle-20181122.zip\n",
        "!cp ground-truth-training-byarticle-20181122.xml '/content/drive/My Drive/ire-major-project'\n",
        "\n",
        "!unzip ground-truth-training-bypublisher-20181122.zip\n",
        "!cp ground-truth-training-bypublisher-20181122.xml '/content/drive/My Drive/ire-major-project'\n",
        "\n",
        "!unzip ground-truth-validation-bypublisher-20181122.zip\n",
        "!cp ground-truth-validation-bypublisher-20181122.xml '/content/drive/My Drive/ire-major-project'\n",
        "\n",
        "!cp ground-truth.xsd '/content/drive/My Drive/ire-major-project'"
      ],
      "execution_count": null,
      "outputs": []
    }
  ]
}